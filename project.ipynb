{
 "cells": [
  {
   "cell_type": "code",
   "execution_count": 1,
   "metadata": {},
   "outputs": [],
   "source": [
    "import numpy as np\n",
    "import pandas as pd\n",
    "import seaborn as sns\n",
    "import matplotlib.pyplot as plt\n",
    "from pandas_profiling import ProfileReport\n",
    "import plotly.graph_objs as go\n",
    "from plotly.offline import download_plotlyjs, init_notebook_mode, plot, iplot\n",
    "from plotly import tools\n",
    "from plotly.subplots import make_subplots\n",
    "import plotly.express as px\n",
    "from datetime import date,timedelta\n",
    "from geopy.geocoders import Nominatim\n",
    "from sklearn.cluster import KMeans\n",
    "import h3"
   ]
  },
  {
   "cell_type": "markdown",
   "metadata": {},
   "source": [
    "**Данные: обзор уровня самоубийств с 1985 по 2016 год**"
   ]
  },
  {
   "cell_type": "code",
   "execution_count": 2,
   "metadata": {},
   "outputs": [],
   "source": [
    "df = pd.read_csv('master.csv')"
   ]
  },
  {
   "cell_type": "code",
   "execution_count": 3,
   "metadata": {},
   "outputs": [
    {
     "data": {
      "text/html": [
       "<div>\n",
       "<style scoped>\n",
       "    .dataframe tbody tr th:only-of-type {\n",
       "        vertical-align: middle;\n",
       "    }\n",
       "\n",
       "    .dataframe tbody tr th {\n",
       "        vertical-align: top;\n",
       "    }\n",
       "\n",
       "    .dataframe thead th {\n",
       "        text-align: right;\n",
       "    }\n",
       "</style>\n",
       "<table border=\"1\" class=\"dataframe\">\n",
       "  <thead>\n",
       "    <tr style=\"text-align: right;\">\n",
       "      <th></th>\n",
       "      <th>country</th>\n",
       "      <th>year</th>\n",
       "      <th>sex</th>\n",
       "      <th>age</th>\n",
       "      <th>suicides_no</th>\n",
       "      <th>population</th>\n",
       "      <th>suicides/100k pop</th>\n",
       "      <th>country-year</th>\n",
       "      <th>HDI for year</th>\n",
       "      <th>gdp_for_year ($)</th>\n",
       "      <th>gdp_per_capita ($)</th>\n",
       "      <th>generation</th>\n",
       "    </tr>\n",
       "  </thead>\n",
       "  <tbody>\n",
       "    <tr>\n",
       "      <th>0</th>\n",
       "      <td>Albania</td>\n",
       "      <td>1987</td>\n",
       "      <td>male</td>\n",
       "      <td>15-24 years</td>\n",
       "      <td>21</td>\n",
       "      <td>312900</td>\n",
       "      <td>6.71</td>\n",
       "      <td>Albania1987</td>\n",
       "      <td>NaN</td>\n",
       "      <td>2,156,624,900</td>\n",
       "      <td>796</td>\n",
       "      <td>Generation X</td>\n",
       "    </tr>\n",
       "    <tr>\n",
       "      <th>1</th>\n",
       "      <td>Albania</td>\n",
       "      <td>1987</td>\n",
       "      <td>male</td>\n",
       "      <td>35-54 years</td>\n",
       "      <td>16</td>\n",
       "      <td>308000</td>\n",
       "      <td>5.19</td>\n",
       "      <td>Albania1987</td>\n",
       "      <td>NaN</td>\n",
       "      <td>2,156,624,900</td>\n",
       "      <td>796</td>\n",
       "      <td>Silent</td>\n",
       "    </tr>\n",
       "    <tr>\n",
       "      <th>2</th>\n",
       "      <td>Albania</td>\n",
       "      <td>1987</td>\n",
       "      <td>female</td>\n",
       "      <td>15-24 years</td>\n",
       "      <td>14</td>\n",
       "      <td>289700</td>\n",
       "      <td>4.83</td>\n",
       "      <td>Albania1987</td>\n",
       "      <td>NaN</td>\n",
       "      <td>2,156,624,900</td>\n",
       "      <td>796</td>\n",
       "      <td>Generation X</td>\n",
       "    </tr>\n",
       "    <tr>\n",
       "      <th>3</th>\n",
       "      <td>Albania</td>\n",
       "      <td>1987</td>\n",
       "      <td>male</td>\n",
       "      <td>75+ years</td>\n",
       "      <td>1</td>\n",
       "      <td>21800</td>\n",
       "      <td>4.59</td>\n",
       "      <td>Albania1987</td>\n",
       "      <td>NaN</td>\n",
       "      <td>2,156,624,900</td>\n",
       "      <td>796</td>\n",
       "      <td>G.I. Generation</td>\n",
       "    </tr>\n",
       "    <tr>\n",
       "      <th>4</th>\n",
       "      <td>Albania</td>\n",
       "      <td>1987</td>\n",
       "      <td>male</td>\n",
       "      <td>25-34 years</td>\n",
       "      <td>9</td>\n",
       "      <td>274300</td>\n",
       "      <td>3.28</td>\n",
       "      <td>Albania1987</td>\n",
       "      <td>NaN</td>\n",
       "      <td>2,156,624,900</td>\n",
       "      <td>796</td>\n",
       "      <td>Boomers</td>\n",
       "    </tr>\n",
       "  </tbody>\n",
       "</table>\n",
       "</div>"
      ],
      "text/plain": [
       "   country  year     sex          age  suicides_no  population  \\\n",
       "0  Albania  1987    male  15-24 years           21      312900   \n",
       "1  Albania  1987    male  35-54 years           16      308000   \n",
       "2  Albania  1987  female  15-24 years           14      289700   \n",
       "3  Albania  1987    male    75+ years            1       21800   \n",
       "4  Albania  1987    male  25-34 years            9      274300   \n",
       "\n",
       "   suicides/100k pop country-year  HDI for year  gdp_for_year ($)   \\\n",
       "0               6.71  Albania1987           NaN      2,156,624,900   \n",
       "1               5.19  Albania1987           NaN      2,156,624,900   \n",
       "2               4.83  Albania1987           NaN      2,156,624,900   \n",
       "3               4.59  Albania1987           NaN      2,156,624,900   \n",
       "4               3.28  Albania1987           NaN      2,156,624,900   \n",
       "\n",
       "   gdp_per_capita ($)       generation  \n",
       "0                 796     Generation X  \n",
       "1                 796           Silent  \n",
       "2                 796     Generation X  \n",
       "3                 796  G.I. Generation  \n",
       "4                 796          Boomers  "
      ]
     },
     "execution_count": 3,
     "metadata": {},
     "output_type": "execute_result"
    }
   ],
   "source": [
    "df.head()"
   ]
  },
  {
   "cell_type": "code",
   "execution_count": 4,
   "metadata": {},
   "outputs": [
    {
     "name": "stdout",
     "output_type": "stream",
     "text": [
      "<class 'pandas.core.frame.DataFrame'>\n",
      "RangeIndex: 27820 entries, 0 to 27819\n",
      "Data columns (total 12 columns):\n",
      " #   Column              Non-Null Count  Dtype  \n",
      "---  ------              --------------  -----  \n",
      " 0   country             27820 non-null  object \n",
      " 1   year                27820 non-null  int64  \n",
      " 2   sex                 27820 non-null  object \n",
      " 3   age                 27820 non-null  object \n",
      " 4   suicides_no         27820 non-null  int64  \n",
      " 5   population          27820 non-null  int64  \n",
      " 6   suicides/100k pop   27820 non-null  float64\n",
      " 7   country-year        27820 non-null  object \n",
      " 8   HDI for year        8364 non-null   float64\n",
      " 9    gdp_for_year ($)   27820 non-null  object \n",
      " 10  gdp_per_capita ($)  27820 non-null  int64  \n",
      " 11  generation          27820 non-null  object \n",
      "dtypes: float64(2), int64(4), object(6)\n",
      "memory usage: 2.5+ MB\n"
     ]
    }
   ],
   "source": [
    "df.info()"
   ]
  },
  {
   "cell_type": "code",
   "execution_count": 5,
   "metadata": {},
   "outputs": [
    {
     "data": {
      "text/html": [
       "<div>\n",
       "<style scoped>\n",
       "    .dataframe tbody tr th:only-of-type {\n",
       "        vertical-align: middle;\n",
       "    }\n",
       "\n",
       "    .dataframe tbody tr th {\n",
       "        vertical-align: top;\n",
       "    }\n",
       "\n",
       "    .dataframe thead th {\n",
       "        text-align: right;\n",
       "    }\n",
       "</style>\n",
       "<table border=\"1\" class=\"dataframe\">\n",
       "  <thead>\n",
       "    <tr style=\"text-align: right;\">\n",
       "      <th></th>\n",
       "      <th>year</th>\n",
       "      <th>suicides_no</th>\n",
       "      <th>population</th>\n",
       "      <th>suicides/100k pop</th>\n",
       "      <th>HDI for year</th>\n",
       "      <th>gdp_per_capita ($)</th>\n",
       "    </tr>\n",
       "  </thead>\n",
       "  <tbody>\n",
       "    <tr>\n",
       "      <th>count</th>\n",
       "      <td>27820.000000</td>\n",
       "      <td>27820.000000</td>\n",
       "      <td>2.782000e+04</td>\n",
       "      <td>27820.000000</td>\n",
       "      <td>8364.000000</td>\n",
       "      <td>27820.000000</td>\n",
       "    </tr>\n",
       "    <tr>\n",
       "      <th>mean</th>\n",
       "      <td>2001.258375</td>\n",
       "      <td>242.574407</td>\n",
       "      <td>1.844794e+06</td>\n",
       "      <td>12.816097</td>\n",
       "      <td>0.776601</td>\n",
       "      <td>16866.464414</td>\n",
       "    </tr>\n",
       "    <tr>\n",
       "      <th>std</th>\n",
       "      <td>8.469055</td>\n",
       "      <td>902.047917</td>\n",
       "      <td>3.911779e+06</td>\n",
       "      <td>18.961511</td>\n",
       "      <td>0.093367</td>\n",
       "      <td>18887.576472</td>\n",
       "    </tr>\n",
       "    <tr>\n",
       "      <th>min</th>\n",
       "      <td>1985.000000</td>\n",
       "      <td>0.000000</td>\n",
       "      <td>2.780000e+02</td>\n",
       "      <td>0.000000</td>\n",
       "      <td>0.483000</td>\n",
       "      <td>251.000000</td>\n",
       "    </tr>\n",
       "    <tr>\n",
       "      <th>25%</th>\n",
       "      <td>1995.000000</td>\n",
       "      <td>3.000000</td>\n",
       "      <td>9.749850e+04</td>\n",
       "      <td>0.920000</td>\n",
       "      <td>0.713000</td>\n",
       "      <td>3447.000000</td>\n",
       "    </tr>\n",
       "    <tr>\n",
       "      <th>50%</th>\n",
       "      <td>2002.000000</td>\n",
       "      <td>25.000000</td>\n",
       "      <td>4.301500e+05</td>\n",
       "      <td>5.990000</td>\n",
       "      <td>0.779000</td>\n",
       "      <td>9372.000000</td>\n",
       "    </tr>\n",
       "    <tr>\n",
       "      <th>75%</th>\n",
       "      <td>2008.000000</td>\n",
       "      <td>131.000000</td>\n",
       "      <td>1.486143e+06</td>\n",
       "      <td>16.620000</td>\n",
       "      <td>0.855000</td>\n",
       "      <td>24874.000000</td>\n",
       "    </tr>\n",
       "    <tr>\n",
       "      <th>max</th>\n",
       "      <td>2016.000000</td>\n",
       "      <td>22338.000000</td>\n",
       "      <td>4.380521e+07</td>\n",
       "      <td>224.970000</td>\n",
       "      <td>0.944000</td>\n",
       "      <td>126352.000000</td>\n",
       "    </tr>\n",
       "  </tbody>\n",
       "</table>\n",
       "</div>"
      ],
      "text/plain": [
       "               year   suicides_no    population  suicides/100k pop  \\\n",
       "count  27820.000000  27820.000000  2.782000e+04       27820.000000   \n",
       "mean    2001.258375    242.574407  1.844794e+06          12.816097   \n",
       "std        8.469055    902.047917  3.911779e+06          18.961511   \n",
       "min     1985.000000      0.000000  2.780000e+02           0.000000   \n",
       "25%     1995.000000      3.000000  9.749850e+04           0.920000   \n",
       "50%     2002.000000     25.000000  4.301500e+05           5.990000   \n",
       "75%     2008.000000    131.000000  1.486143e+06          16.620000   \n",
       "max     2016.000000  22338.000000  4.380521e+07         224.970000   \n",
       "\n",
       "       HDI for year  gdp_per_capita ($)  \n",
       "count   8364.000000        27820.000000  \n",
       "mean       0.776601        16866.464414  \n",
       "std        0.093367        18887.576472  \n",
       "min        0.483000          251.000000  \n",
       "25%        0.713000         3447.000000  \n",
       "50%        0.779000         9372.000000  \n",
       "75%        0.855000        24874.000000  \n",
       "max        0.944000       126352.000000  "
      ]
     },
     "execution_count": 5,
     "metadata": {},
     "output_type": "execute_result"
    }
   ],
   "source": [
    "df.describe()"
   ]
  },
  {
   "cell_type": "code",
   "execution_count": 6,
   "metadata": {},
   "outputs": [
    {
     "data": {
      "text/plain": [
       "2009    1068\n",
       "2010    1056\n",
       "2001    1056\n",
       "2000    1032\n",
       "2011    1032\n",
       "2007    1032\n",
       "2002    1032\n",
       "2003    1032\n",
       "2006    1020\n",
       "2008    1020\n",
       "2005    1008\n",
       "2004    1008\n",
       "1999     996\n",
       "2012     972\n",
       "2013     960\n",
       "1998     948\n",
       "1995     936\n",
       "2014     936\n",
       "1997     924\n",
       "1996     924\n",
       "1994     816\n",
       "1992     780\n",
       "1993     780\n",
       "1991     768\n",
       "1990     768\n",
       "2015     744\n",
       "1987     648\n",
       "1989     624\n",
       "1988     588\n",
       "1986     576\n",
       "1985     576\n",
       "2016     160\n",
       "Name: year, dtype: int64"
      ]
     },
     "execution_count": 6,
     "metadata": {},
     "output_type": "execute_result"
    }
   ],
   "source": [
    "df['year'].value_counts()"
   ]
  },
  {
   "cell_type": "markdown",
   "metadata": {},
   "source": [
    "*Можно не учитывать 2016 год, так как судя по кол-ву самоубийств, они не полные*"
   ]
  },
  {
   "cell_type": "code",
   "execution_count": 7,
   "metadata": {},
   "outputs": [],
   "source": [
    "df = df[df['year'] != 2016]"
   ]
  },
  {
   "cell_type": "code",
   "execution_count": 8,
   "metadata": {},
   "outputs": [
    {
     "data": {
      "text/html": [
       "<div>\n",
       "<style scoped>\n",
       "    .dataframe tbody tr th:only-of-type {\n",
       "        vertical-align: middle;\n",
       "    }\n",
       "\n",
       "    .dataframe tbody tr th {\n",
       "        vertical-align: top;\n",
       "    }\n",
       "\n",
       "    .dataframe thead th {\n",
       "        text-align: right;\n",
       "    }\n",
       "</style>\n",
       "<table border=\"1\" class=\"dataframe\">\n",
       "  <thead>\n",
       "    <tr style=\"text-align: right;\">\n",
       "      <th></th>\n",
       "      <th>year</th>\n",
       "      <th>suicides_no</th>\n",
       "      <th>population</th>\n",
       "      <th>suicides/100k pop</th>\n",
       "      <th>HDI for year</th>\n",
       "      <th>gdp_per_capita ($)</th>\n",
       "    </tr>\n",
       "  </thead>\n",
       "  <tbody>\n",
       "    <tr>\n",
       "      <th>count</th>\n",
       "      <td>27660.000000</td>\n",
       "      <td>27660.000000</td>\n",
       "      <td>2.766000e+04</td>\n",
       "      <td>27660.000000</td>\n",
       "      <td>8364.000000</td>\n",
       "      <td>27660.000000</td>\n",
       "    </tr>\n",
       "    <tr>\n",
       "      <th>mean</th>\n",
       "      <td>2001.173102</td>\n",
       "      <td>243.413485</td>\n",
       "      <td>1.850689e+06</td>\n",
       "      <td>12.812597</td>\n",
       "      <td>0.776601</td>\n",
       "      <td>16815.568330</td>\n",
       "    </tr>\n",
       "    <tr>\n",
       "      <th>std</th>\n",
       "      <td>8.418754</td>\n",
       "      <td>904.490185</td>\n",
       "      <td>3.920658e+06</td>\n",
       "      <td>18.972063</td>\n",
       "      <td>0.093367</td>\n",
       "      <td>18861.585497</td>\n",
       "    </tr>\n",
       "    <tr>\n",
       "      <th>min</th>\n",
       "      <td>1985.000000</td>\n",
       "      <td>0.000000</td>\n",
       "      <td>2.780000e+02</td>\n",
       "      <td>0.000000</td>\n",
       "      <td>0.483000</td>\n",
       "      <td>251.000000</td>\n",
       "    </tr>\n",
       "    <tr>\n",
       "      <th>25%</th>\n",
       "      <td>1994.000000</td>\n",
       "      <td>3.000000</td>\n",
       "      <td>9.753525e+04</td>\n",
       "      <td>0.910000</td>\n",
       "      <td>0.713000</td>\n",
       "      <td>3436.000000</td>\n",
       "    </tr>\n",
       "    <tr>\n",
       "      <th>50%</th>\n",
       "      <td>2002.000000</td>\n",
       "      <td>25.000000</td>\n",
       "      <td>4.307250e+05</td>\n",
       "      <td>5.980000</td>\n",
       "      <td>0.779000</td>\n",
       "      <td>9283.000000</td>\n",
       "    </tr>\n",
       "    <tr>\n",
       "      <th>75%</th>\n",
       "      <td>2008.000000</td>\n",
       "      <td>132.000000</td>\n",
       "      <td>1.491041e+06</td>\n",
       "      <td>16.602500</td>\n",
       "      <td>0.855000</td>\n",
       "      <td>24796.000000</td>\n",
       "    </tr>\n",
       "    <tr>\n",
       "      <th>max</th>\n",
       "      <td>2015.000000</td>\n",
       "      <td>22338.000000</td>\n",
       "      <td>4.380521e+07</td>\n",
       "      <td>224.970000</td>\n",
       "      <td>0.944000</td>\n",
       "      <td>126352.000000</td>\n",
       "    </tr>\n",
       "  </tbody>\n",
       "</table>\n",
       "</div>"
      ],
      "text/plain": [
       "               year   suicides_no    population  suicides/100k pop  \\\n",
       "count  27660.000000  27660.000000  2.766000e+04       27660.000000   \n",
       "mean    2001.173102    243.413485  1.850689e+06          12.812597   \n",
       "std        8.418754    904.490185  3.920658e+06          18.972063   \n",
       "min     1985.000000      0.000000  2.780000e+02           0.000000   \n",
       "25%     1994.000000      3.000000  9.753525e+04           0.910000   \n",
       "50%     2002.000000     25.000000  4.307250e+05           5.980000   \n",
       "75%     2008.000000    132.000000  1.491041e+06          16.602500   \n",
       "max     2015.000000  22338.000000  4.380521e+07         224.970000   \n",
       "\n",
       "       HDI for year  gdp_per_capita ($)  \n",
       "count   8364.000000        27660.000000  \n",
       "mean       0.776601        16815.568330  \n",
       "std        0.093367        18861.585497  \n",
       "min        0.483000          251.000000  \n",
       "25%        0.713000         3436.000000  \n",
       "50%        0.779000         9283.000000  \n",
       "75%        0.855000        24796.000000  \n",
       "max        0.944000       126352.000000  "
      ]
     },
     "execution_count": 8,
     "metadata": {},
     "output_type": "execute_result"
    }
   ],
   "source": [
    "df.describe()"
   ]
  },
  {
   "cell_type": "code",
   "execution_count": 9,
   "metadata": {},
   "outputs": [
    {
     "data": {
      "text/plain": [
       "Generation X       6376\n",
       "Silent             6332\n",
       "Millenials         5780\n",
       "Boomers            4958\n",
       "G.I. Generation    2744\n",
       "Generation Z       1470\n",
       "Name: generation, dtype: int64"
      ]
     },
     "execution_count": 9,
     "metadata": {},
     "output_type": "execute_result"
    }
   ],
   "source": [
    "df['generation'].value_counts()"
   ]
  },
  {
   "cell_type": "code",
   "execution_count": 10,
   "metadata": {},
   "outputs": [
    {
     "data": {
      "text/plain": [
       "Argentina                 372\n",
       "Israel                    372\n",
       "Japan                     372\n",
       "Puerto Rico               372\n",
       "Mexico                    372\n",
       "                         ... \n",
       "San Marino                 36\n",
       "Bosnia and Herzegovina     24\n",
       "Cabo Verde                 12\n",
       "Dominica                   12\n",
       "Macau                      12\n",
       "Name: country, Length: 100, dtype: int64"
      ]
     },
     "execution_count": 10,
     "metadata": {},
     "output_type": "execute_result"
    }
   ],
   "source": [
    "df['country'].value_counts()#всего 101 страна, но не у всех стран есть данные за годы"
   ]
  },
  {
   "cell_type": "code",
   "execution_count": 11,
   "metadata": {},
   "outputs": [
    {
     "data": {
      "text/plain": [
       "female    13830\n",
       "male      13830\n",
       "Name: sex, dtype: int64"
      ]
     },
     "execution_count": 11,
     "metadata": {},
     "output_type": "execute_result"
    }
   ],
   "source": [
    "df['sex'].value_counts()"
   ]
  },
  {
   "cell_type": "code",
   "execution_count": 12,
   "metadata": {},
   "outputs": [
    {
     "data": {
      "text/plain": [
       "15-24 years    4610\n",
       "5-14 years     4610\n",
       "75+ years      4610\n",
       "25-34 years    4610\n",
       "35-54 years    4610\n",
       "55-74 years    4610\n",
       "Name: age, dtype: int64"
      ]
     },
     "execution_count": 12,
     "metadata": {},
     "output_type": "execute_result"
    }
   ],
   "source": [
    "df['age'].value_counts()"
   ]
  },
  {
   "cell_type": "markdown",
   "metadata": {},
   "source": [
    "Давайте найдем суммарное кол-во самоубийств и максимальное значение, а также определим страну с макс. числом самоубийств, но также стоит учитывать и кол-во населения."
   ]
  },
  {
   "cell_type": "code",
   "execution_count": 13,
   "metadata": {},
   "outputs": [
    {
     "data": {
      "text/plain": [
       "6732817"
      ]
     },
     "execution_count": 13,
     "metadata": {},
     "output_type": "execute_result"
    }
   ],
   "source": [
    "df['suicides_no'].sum()"
   ]
  },
  {
   "cell_type": "code",
   "execution_count": 14,
   "metadata": {},
   "outputs": [
    {
     "data": {
      "text/plain": [
       "22338"
      ]
     },
     "execution_count": 14,
     "metadata": {},
     "output_type": "execute_result"
    }
   ],
   "source": [
    "df['suicides_no'].max()"
   ]
  },
  {
   "cell_type": "code",
   "execution_count": 15,
   "metadata": {},
   "outputs": [
    {
     "name": "stdout",
     "output_type": "stream",
     "text": [
      "20996    Russian Federation\n",
      "Name: country, dtype: object \n",
      " 20996    1994\n",
      "Name: year, dtype: int64\n"
     ]
    }
   ],
   "source": [
    "print(df[df['suicides_no'] ==22338]['country'],'\\n',df[df['suicides_no'] ==22338]['year'])"
   ]
  },
  {
   "cell_type": "code",
   "execution_count": 16,
   "metadata": {},
   "outputs": [
    {
     "data": {
      "text/plain": [
       "116063"
      ]
     },
     "execution_count": 16,
     "metadata": {},
     "output_type": "execute_result"
    }
   ],
   "source": [
    "df[df['year'] ==1985]['suicides_no'].sum()"
   ]
  },
  {
   "cell_type": "markdown",
   "metadata": {},
   "source": [
    "Для начала посторим график по кол-ву смертей"
   ]
  },
  {
   "cell_type": "code",
   "execution_count": 17,
   "metadata": {},
   "outputs": [
    {
     "name": "stderr",
     "output_type": "stream",
     "text": [
      "C:\\Users\\genna\\AppData\\Roaming\\Python\\Python37\\site-packages\\seaborn\\_decorators.py:43: FutureWarning:\n",
      "\n",
      "Pass the following variables as keyword args: x, y. From version 0.12, the only valid positional argument will be `data`, and passing other arguments without an explicit keyword will result in an error or misinterpretation.\n",
      "\n"
     ]
    },
    {
     "data": {
      "image/png": "[encoded data removed]",
      "text/plain": [
       "<Figure size 1080x360 with 1 Axes>"
      ]
     },
     "metadata": {
      "needs_background": "light"
     },
     "output_type": "display_data"
    }
   ],
   "source": [
    "plt.figure(figsize=(15,5))\n",
    "\n",
    "ax = sns.lineplot(df['year'], df['suicides_no'], ci = None)\n",
    "plt.title('Изменение среднего количества смертей с 1985 по 2015', fontsize = 15)\n",
    "plt.xlabel('Год')\n",
    "plt.xticks(range(1985,2016, 2))\n",
    "plt.ylabel('Кол-во самоубийств')\n",
    "plt.show()"
   ]
  },
  {
   "cell_type": "markdown",
   "metadata": {},
   "source": [
    "Как видим, наибольшие кол-во смертей резко возросло с 1987 по 1993, потом спало. С 2014 по 2015 так же заметен рост смертей."
   ]
  },
  {
   "cell_type": "code",
   "execution_count": 18,
   "metadata": {},
   "outputs": [
    {
     "data": {
      "text/plain": [
       "country\n",
       "Saint Kitts and Nevis          0\n",
       "Dominica                       0\n",
       "San Marino                     4\n",
       "Antigua and Barbuda           11\n",
       "Maldives                      20\n",
       "                          ...   \n",
       "Ukraine                   319950\n",
       "France                    329127\n",
       "Japan                     806902\n",
       "United States            1034013\n",
       "Russian Federation       1209742\n",
       "Name: suicides_no, Length: 100, dtype: int64"
      ]
     },
     "execution_count": 18,
     "metadata": {},
     "output_type": "execute_result"
    }
   ],
   "source": [
    "a = df.groupby('country')['suicides_no'].sum()#выпишем для каждой страны кол-во смертей\n",
    "a.sort_values()"
   ]
  },
  {
   "cell_type": "code",
   "execution_count": 19,
   "metadata": {},
   "outputs": [
    {
     "data": {
      "text/plain": [
       "array([1989, 1990, 1991, 1992, 1993, 1994, 1995, 1996, 1997, 1998, 1999,\n",
       "       2000, 2001, 2002, 2003, 2004, 2005, 2006, 2007, 2008, 2009, 2010,\n",
       "       2011, 2012, 2013, 2014, 2015], dtype=int64)"
      ]
     },
     "execution_count": 19,
     "metadata": {},
     "output_type": "execute_result"
    }
   ],
   "source": [
    "df[df['country'] == 'Russian Federation']['year'].unique()"
   ]
  },
  {
   "cell_type": "code",
   "execution_count": 20,
   "metadata": {},
   "outputs": [
    {
     "data": {
      "text/plain": [
       "array([1985, 1986, 1987, 1988, 1989, 1990, 1991, 1992, 1993, 1994, 1995,\n",
       "       1996, 1997, 1998, 1999, 2000, 2001, 2002, 2003, 2004, 2005, 2006,\n",
       "       2007, 2008, 2009, 2010, 2011, 2012, 2013, 2014, 2015], dtype=int64)"
      ]
     },
     "execution_count": 20,
     "metadata": {},
     "output_type": "execute_result"
    }
   ],
   "source": [
    "df[df['country'] == 'United States']['year'].unique()"
   ]
  },
  {
   "cell_type": "code",
   "execution_count": 21,
   "metadata": {},
   "outputs": [],
   "source": [
    "mean_world_s = df.groupby('year')['suicides/100k pop'].mean()#Среднее значение самоубийств на 100к людей по годам в мире"
   ]
  },
  {
   "cell_type": "code",
   "execution_count": 22,
   "metadata": {},
   "outputs": [
    {
     "data": {
      "image/png": "[encoded data removed]",
      "text/plain": [
       "<Figure size 1080x360 with 1 Axes>"
      ]
     },
     "metadata": {
      "needs_background": "light"
     },
     "output_type": "display_data"
    }
   ],
   "source": [
    "fig = plt.figure(figsize=(15,5))\n",
    "ax = sns.lineplot(x=df['year'].unique(),y = mean_world_s, label = 'World', color = 'pink')"
   ]
  },
  {
   "cell_type": "code",
   "execution_count": 23,
   "metadata": {},
   "outputs": [
    {
     "data": {
      "text/plain": [
       "Text(0.5, 1.0, 'Средние значение отношения кол-ва смертей/кол-во населения в мире')"
      ]
     },
     "execution_count": 23,
     "metadata": {},
     "output_type": "execute_result"
    },
    {
     "data": {
      "image/png": "[encoded data removed]",
      "text/plain": [
       "<Figure size 1440x360 with 1 Axes>"
      ]
     },
     "metadata": {
      "needs_background": "light"
     },
     "output_type": "display_data"
    }
   ],
   "source": [
    "mean_world_s1 = (df.groupby('year')['suicides_no'].sum()/df.groupby('year')['population'].sum()).groupby('year').mean()\n",
    "fig = plt.figure(figsize=(20,5))\n",
    "ax = sns.lineplot(x=df['year'].unique(),y = mean_world_s1, label = 'World', color = 'red')\n",
    "plt.xticks(range(1985,2015, 1))\n",
    "plt.title('Средние значение отношения кол-ва смертей/кол-во населения в мире')"
   ]
  },
  {
   "cell_type": "code",
   "execution_count": 24,
   "metadata": {
    "scrolled": true
   },
   "outputs": [
    {
     "name": "stderr",
     "output_type": "stream",
     "text": [
      "C:\\Users\\genna\\AppData\\Roaming\\Python\\Python37\\site-packages\\seaborn\\_decorators.py:43: FutureWarning:\n",
      "\n",
      "Pass the following variables as keyword args: x, y. From version 0.12, the only valid positional argument will be `data`, and passing other arguments without an explicit keyword will result in an error or misinterpretation.\n",
      "\n"
     ]
    },
    {
     "data": {
      "text/plain": [
       "<AxesSubplot:xlabel='year', ylabel='gdp_per_capita ($)'>"
      ]
     },
     "execution_count": 24,
     "metadata": {},
     "output_type": "execute_result"
    },
    {
     "data": {
      "image/png": "[encoded data removed]",
      "text/plain": [
       "<Figure size 1080x432 with 1 Axes>"
      ]
     },
     "metadata": {
      "needs_background": "light"
     },
     "output_type": "display_data"
    }
   ],
   "source": [
    "plt.figure(figsize=(15,6))\n",
    "sns.lineplot(df['year'], df['gdp_per_capita ($)'], ci = None)"
   ]
  },
  {
   "cell_type": "markdown",
   "metadata": {},
   "source": [
    "**Разделим страны на сегменты по ввп относительно каждого года, а также попробуем разделить страны на уровни риска самоубийств.**"
   ]
  },
  {
   "cell_type": "code",
   "execution_count": 25,
   "metadata": {},
   "outputs": [],
   "source": [
    "a = []\n",
    "for i in df.iloc[:, 9]:\n",
    "    a.append(int(i.replace(',','')))"
   ]
  },
  {
   "cell_type": "code",
   "execution_count": 26,
   "metadata": {},
   "outputs": [],
   "source": [
    "df['gdp_for_year'] = a"
   ]
  },
  {
   "cell_type": "code",
   "execution_count": 27,
   "metadata": {},
   "outputs": [
    {
     "data": {
      "text/plain": [
       "' gdp_for_year ($) '"
      ]
     },
     "execution_count": 27,
     "metadata": {},
     "output_type": "execute_result"
    }
   ],
   "source": [
    "df.iloc[:, 9].name"
   ]
  },
  {
   "cell_type": "code",
   "execution_count": 28,
   "metadata": {},
   "outputs": [],
   "source": [
    "df = df.drop([' gdp_for_year ($) ', 'HDI for year'], axis = 1)"
   ]
  },
  {
   "cell_type": "code",
   "execution_count": 29,
   "metadata": {},
   "outputs": [
    {
     "data": {
      "text/html": [
       "<div>\n",
       "<style scoped>\n",
       "    .dataframe tbody tr th:only-of-type {\n",
       "        vertical-align: middle;\n",
       "    }\n",
       "\n",
       "    .dataframe tbody tr th {\n",
       "        vertical-align: top;\n",
       "    }\n",
       "\n",
       "    .dataframe thead th {\n",
       "        text-align: right;\n",
       "    }\n",
       "</style>\n",
       "<table border=\"1\" class=\"dataframe\">\n",
       "  <thead>\n",
       "    <tr style=\"text-align: right;\">\n",
       "      <th></th>\n",
       "      <th>year</th>\n",
       "      <th>suicides_no</th>\n",
       "      <th>population</th>\n",
       "      <th>suicides/100k pop</th>\n",
       "      <th>gdp_per_capita ($)</th>\n",
       "      <th>gdp_for_year</th>\n",
       "    </tr>\n",
       "  </thead>\n",
       "  <tbody>\n",
       "    <tr>\n",
       "      <th>count</th>\n",
       "      <td>27660.000000</td>\n",
       "      <td>27660.000000</td>\n",
       "      <td>2.766000e+04</td>\n",
       "      <td>27660.000000</td>\n",
       "      <td>27660.000000</td>\n",
       "      <td>2.766000e+04</td>\n",
       "    </tr>\n",
       "    <tr>\n",
       "      <th>mean</th>\n",
       "      <td>2001.173102</td>\n",
       "      <td>243.413485</td>\n",
       "      <td>1.850689e+06</td>\n",
       "      <td>12.812597</td>\n",
       "      <td>16815.568330</td>\n",
       "      <td>4.471009e+11</td>\n",
       "    </tr>\n",
       "    <tr>\n",
       "      <th>std</th>\n",
       "      <td>8.418754</td>\n",
       "      <td>904.490185</td>\n",
       "      <td>3.920658e+06</td>\n",
       "      <td>18.972063</td>\n",
       "      <td>18861.585497</td>\n",
       "      <td>1.457574e+12</td>\n",
       "    </tr>\n",
       "    <tr>\n",
       "      <th>min</th>\n",
       "      <td>1985.000000</td>\n",
       "      <td>0.000000</td>\n",
       "      <td>2.780000e+02</td>\n",
       "      <td>0.000000</td>\n",
       "      <td>251.000000</td>\n",
       "      <td>4.691962e+07</td>\n",
       "    </tr>\n",
       "    <tr>\n",
       "      <th>25%</th>\n",
       "      <td>1994.000000</td>\n",
       "      <td>3.000000</td>\n",
       "      <td>9.753525e+04</td>\n",
       "      <td>0.910000</td>\n",
       "      <td>3436.000000</td>\n",
       "      <td>8.976208e+09</td>\n",
       "    </tr>\n",
       "    <tr>\n",
       "      <th>50%</th>\n",
       "      <td>2002.000000</td>\n",
       "      <td>25.000000</td>\n",
       "      <td>4.307250e+05</td>\n",
       "      <td>5.980000</td>\n",
       "      <td>9283.000000</td>\n",
       "      <td>4.801361e+10</td>\n",
       "    </tr>\n",
       "    <tr>\n",
       "      <th>75%</th>\n",
       "      <td>2008.000000</td>\n",
       "      <td>132.000000</td>\n",
       "      <td>1.491041e+06</td>\n",
       "      <td>16.602500</td>\n",
       "      <td>24796.000000</td>\n",
       "      <td>2.602024e+11</td>\n",
       "    </tr>\n",
       "    <tr>\n",
       "      <th>max</th>\n",
       "      <td>2015.000000</td>\n",
       "      <td>22338.000000</td>\n",
       "      <td>4.380521e+07</td>\n",
       "      <td>224.970000</td>\n",
       "      <td>126352.000000</td>\n",
       "      <td>1.812071e+13</td>\n",
       "    </tr>\n",
       "  </tbody>\n",
       "</table>\n",
       "</div>"
      ],
      "text/plain": [
       "               year   suicides_no    population  suicides/100k pop  \\\n",
       "count  27660.000000  27660.000000  2.766000e+04       27660.000000   \n",
       "mean    2001.173102    243.413485  1.850689e+06          12.812597   \n",
       "std        8.418754    904.490185  3.920658e+06          18.972063   \n",
       "min     1985.000000      0.000000  2.780000e+02           0.000000   \n",
       "25%     1994.000000      3.000000  9.753525e+04           0.910000   \n",
       "50%     2002.000000     25.000000  4.307250e+05           5.980000   \n",
       "75%     2008.000000    132.000000  1.491041e+06          16.602500   \n",
       "max     2015.000000  22338.000000  4.380521e+07         224.970000   \n",
       "\n",
       "       gdp_per_capita ($)  gdp_for_year  \n",
       "count        27660.000000  2.766000e+04  \n",
       "mean         16815.568330  4.471009e+11  \n",
       "std          18861.585497  1.457574e+12  \n",
       "min            251.000000  4.691962e+07  \n",
       "25%           3436.000000  8.976208e+09  \n",
       "50%           9283.000000  4.801361e+10  \n",
       "75%          24796.000000  2.602024e+11  \n",
       "max         126352.000000  1.812071e+13  "
      ]
     },
     "execution_count": 29,
     "metadata": {},
     "output_type": "execute_result"
    }
   ],
   "source": [
    "df.describe()"
   ]
  },
  {
   "cell_type": "code",
   "execution_count": 30,
   "metadata": {},
   "outputs": [],
   "source": [
    "label=[1, 2, 3, 4, 5]"
   ]
  },
  {
   "cell_type": "code",
   "execution_count": 31,
   "metadata": {},
   "outputs": [],
   "source": [
    "df['gdpy_rating'] = pd.qcut(df['gdp_for_year'], q = 5, labels = label, precision = 0)"
   ]
  },
  {
   "cell_type": "code",
   "execution_count": 32,
   "metadata": {
    "scrolled": true
   },
   "outputs": [
    {
     "data": {
      "text/html": [
       "<div>\n",
       "<style scoped>\n",
       "    .dataframe tbody tr th:only-of-type {\n",
       "        vertical-align: middle;\n",
       "    }\n",
       "\n",
       "    .dataframe tbody tr th {\n",
       "        vertical-align: top;\n",
       "    }\n",
       "\n",
       "    .dataframe thead th {\n",
       "        text-align: right;\n",
       "    }\n",
       "</style>\n",
       "<table border=\"1\" class=\"dataframe\">\n",
       "  <thead>\n",
       "    <tr style=\"text-align: right;\">\n",
       "      <th></th>\n",
       "      <th>country</th>\n",
       "      <th>year</th>\n",
       "      <th>sex</th>\n",
       "      <th>age</th>\n",
       "      <th>suicides_no</th>\n",
       "      <th>population</th>\n",
       "      <th>suicides/100k pop</th>\n",
       "      <th>country-year</th>\n",
       "      <th>gdp_per_capita ($)</th>\n",
       "      <th>generation</th>\n",
       "      <th>gdp_for_year</th>\n",
       "      <th>gdpy_rating</th>\n",
       "    </tr>\n",
       "  </thead>\n",
       "  <tbody>\n",
       "    <tr>\n",
       "      <th>0</th>\n",
       "      <td>Albania</td>\n",
       "      <td>1987</td>\n",
       "      <td>male</td>\n",
       "      <td>15-24 years</td>\n",
       "      <td>21</td>\n",
       "      <td>312900</td>\n",
       "      <td>6.71</td>\n",
       "      <td>Albania1987</td>\n",
       "      <td>796</td>\n",
       "      <td>Generation X</td>\n",
       "      <td>2156624900</td>\n",
       "      <td>1</td>\n",
       "    </tr>\n",
       "    <tr>\n",
       "      <th>1</th>\n",
       "      <td>Albania</td>\n",
       "      <td>1987</td>\n",
       "      <td>male</td>\n",
       "      <td>35-54 years</td>\n",
       "      <td>16</td>\n",
       "      <td>308000</td>\n",
       "      <td>5.19</td>\n",
       "      <td>Albania1987</td>\n",
       "      <td>796</td>\n",
       "      <td>Silent</td>\n",
       "      <td>2156624900</td>\n",
       "      <td>1</td>\n",
       "    </tr>\n",
       "    <tr>\n",
       "      <th>2</th>\n",
       "      <td>Albania</td>\n",
       "      <td>1987</td>\n",
       "      <td>female</td>\n",
       "      <td>15-24 years</td>\n",
       "      <td>14</td>\n",
       "      <td>289700</td>\n",
       "      <td>4.83</td>\n",
       "      <td>Albania1987</td>\n",
       "      <td>796</td>\n",
       "      <td>Generation X</td>\n",
       "      <td>2156624900</td>\n",
       "      <td>1</td>\n",
       "    </tr>\n",
       "    <tr>\n",
       "      <th>3</th>\n",
       "      <td>Albania</td>\n",
       "      <td>1987</td>\n",
       "      <td>male</td>\n",
       "      <td>75+ years</td>\n",
       "      <td>1</td>\n",
       "      <td>21800</td>\n",
       "      <td>4.59</td>\n",
       "      <td>Albania1987</td>\n",
       "      <td>796</td>\n",
       "      <td>G.I. Generation</td>\n",
       "      <td>2156624900</td>\n",
       "      <td>1</td>\n",
       "    </tr>\n",
       "    <tr>\n",
       "      <th>4</th>\n",
       "      <td>Albania</td>\n",
       "      <td>1987</td>\n",
       "      <td>male</td>\n",
       "      <td>25-34 years</td>\n",
       "      <td>9</td>\n",
       "      <td>274300</td>\n",
       "      <td>3.28</td>\n",
       "      <td>Albania1987</td>\n",
       "      <td>796</td>\n",
       "      <td>Boomers</td>\n",
       "      <td>2156624900</td>\n",
       "      <td>1</td>\n",
       "    </tr>\n",
       "  </tbody>\n",
       "</table>\n",
       "</div>"
      ],
      "text/plain": [
       "   country  year     sex          age  suicides_no  population  \\\n",
       "0  Albania  1987    male  15-24 years           21      312900   \n",
       "1  Albania  1987    male  35-54 years           16      308000   \n",
       "2  Albania  1987  female  15-24 years           14      289700   \n",
       "3  Albania  1987    male    75+ years            1       21800   \n",
       "4  Albania  1987    male  25-34 years            9      274300   \n",
       "\n",
       "   suicides/100k pop country-year  gdp_per_capita ($)       generation  \\\n",
       "0               6.71  Albania1987                 796     Generation X   \n",
       "1               5.19  Albania1987                 796           Silent   \n",
       "2               4.83  Albania1987                 796     Generation X   \n",
       "3               4.59  Albania1987                 796  G.I. Generation   \n",
       "4               3.28  Albania1987                 796          Boomers   \n",
       "\n",
       "   gdp_for_year gdpy_rating  \n",
       "0    2156624900           1  \n",
       "1    2156624900           1  \n",
       "2    2156624900           1  \n",
       "3    2156624900           1  \n",
       "4    2156624900           1  "
      ]
     },
     "execution_count": 32,
     "metadata": {},
     "output_type": "execute_result"
    }
   ],
   "source": [
    "df.head()"
   ]
  },
  {
   "cell_type": "code",
   "execution_count": 34,
   "metadata": {},
   "outputs": [],
   "source": [
    "df['gdpc_rating'] = pd.qcut(df['gdp_per_capita ($)'], q = 5, labels = label, precision = 0)"
   ]
  },
  {
   "cell_type": "code",
   "execution_count": 35,
   "metadata": {},
   "outputs": [
    {
     "data": {
      "text/html": [
       "<div>\n",
       "<style scoped>\n",
       "    .dataframe tbody tr th:only-of-type {\n",
       "        vertical-align: middle;\n",
       "    }\n",
       "\n",
       "    .dataframe tbody tr th {\n",
       "        vertical-align: top;\n",
       "    }\n",
       "\n",
       "    .dataframe thead th {\n",
       "        text-align: right;\n",
       "    }\n",
       "</style>\n",
       "<table border=\"1\" class=\"dataframe\">\n",
       "  <thead>\n",
       "    <tr style=\"text-align: right;\">\n",
       "      <th></th>\n",
       "      <th>country</th>\n",
       "      <th>year</th>\n",
       "      <th>sex</th>\n",
       "      <th>age</th>\n",
       "      <th>suicides_no</th>\n",
       "      <th>population</th>\n",
       "      <th>suicides/100k pop</th>\n",
       "      <th>country-year</th>\n",
       "      <th>gdp_per_capita ($)</th>\n",
       "      <th>generation</th>\n",
       "      <th>gdp_for_year</th>\n",
       "      <th>gdpy_rating</th>\n",
       "      <th>gdpc_rating</th>\n",
       "    </tr>\n",
       "  </thead>\n",
       "  <tbody>\n",
       "    <tr>\n",
       "      <th>0</th>\n",
       "      <td>Albania</td>\n",
       "      <td>1987</td>\n",
       "      <td>male</td>\n",
       "      <td>15-24 years</td>\n",
       "      <td>21</td>\n",
       "      <td>312900</td>\n",
       "      <td>6.71</td>\n",
       "      <td>Albania1987</td>\n",
       "      <td>796</td>\n",
       "      <td>Generation X</td>\n",
       "      <td>2156624900</td>\n",
       "      <td>1</td>\n",
       "      <td>1</td>\n",
       "    </tr>\n",
       "    <tr>\n",
       "      <th>1</th>\n",
       "      <td>Albania</td>\n",
       "      <td>1987</td>\n",
       "      <td>male</td>\n",
       "      <td>35-54 years</td>\n",
       "      <td>16</td>\n",
       "      <td>308000</td>\n",
       "      <td>5.19</td>\n",
       "      <td>Albania1987</td>\n",
       "      <td>796</td>\n",
       "      <td>Silent</td>\n",
       "      <td>2156624900</td>\n",
       "      <td>1</td>\n",
       "      <td>1</td>\n",
       "    </tr>\n",
       "    <tr>\n",
       "      <th>2</th>\n",
       "      <td>Albania</td>\n",
       "      <td>1987</td>\n",
       "      <td>female</td>\n",
       "      <td>15-24 years</td>\n",
       "      <td>14</td>\n",
       "      <td>289700</td>\n",
       "      <td>4.83</td>\n",
       "      <td>Albania1987</td>\n",
       "      <td>796</td>\n",
       "      <td>Generation X</td>\n",
       "      <td>2156624900</td>\n",
       "      <td>1</td>\n",
       "      <td>1</td>\n",
       "    </tr>\n",
       "    <tr>\n",
       "      <th>3</th>\n",
       "      <td>Albania</td>\n",
       "      <td>1987</td>\n",
       "      <td>male</td>\n",
       "      <td>75+ years</td>\n",
       "      <td>1</td>\n",
       "      <td>21800</td>\n",
       "      <td>4.59</td>\n",
       "      <td>Albania1987</td>\n",
       "      <td>796</td>\n",
       "      <td>G.I. Generation</td>\n",
       "      <td>2156624900</td>\n",
       "      <td>1</td>\n",
       "      <td>1</td>\n",
       "    </tr>\n",
       "    <tr>\n",
       "      <th>4</th>\n",
       "      <td>Albania</td>\n",
       "      <td>1987</td>\n",
       "      <td>male</td>\n",
       "      <td>25-34 years</td>\n",
       "      <td>9</td>\n",
       "      <td>274300</td>\n",
       "      <td>3.28</td>\n",
       "      <td>Albania1987</td>\n",
       "      <td>796</td>\n",
       "      <td>Boomers</td>\n",
       "      <td>2156624900</td>\n",
       "      <td>1</td>\n",
       "      <td>1</td>\n",
       "    </tr>\n",
       "  </tbody>\n",
       "</table>\n",
       "</div>"
      ],
      "text/plain": [
       "   country  year     sex          age  suicides_no  population  \\\n",
       "0  Albania  1987    male  15-24 years           21      312900   \n",
       "1  Albania  1987    male  35-54 years           16      308000   \n",
       "2  Albania  1987  female  15-24 years           14      289700   \n",
       "3  Albania  1987    male    75+ years            1       21800   \n",
       "4  Albania  1987    male  25-34 years            9      274300   \n",
       "\n",
       "   suicides/100k pop country-year  gdp_per_capita ($)       generation  \\\n",
       "0               6.71  Albania1987                 796     Generation X   \n",
       "1               5.19  Albania1987                 796           Silent   \n",
       "2               4.83  Albania1987                 796     Generation X   \n",
       "3               4.59  Albania1987                 796  G.I. Generation   \n",
       "4               3.28  Albania1987                 796          Boomers   \n",
       "\n",
       "   gdp_for_year gdpy_rating gdpc_rating  \n",
       "0    2156624900           1           1  \n",
       "1    2156624900           1           1  \n",
       "2    2156624900           1           1  \n",
       "3    2156624900           1           1  \n",
       "4    2156624900           1           1  "
      ]
     },
     "execution_count": 35,
     "metadata": {},
     "output_type": "execute_result"
    }
   ],
   "source": [
    "df.head()"
   ]
  },
  {
   "cell_type": "code",
   "execution_count": 36,
   "metadata": {},
   "outputs": [
    {
     "data": {
      "text/html": [
       "<div>\n",
       "<style scoped>\n",
       "    .dataframe tbody tr th:only-of-type {\n",
       "        vertical-align: middle;\n",
       "    }\n",
       "\n",
       "    .dataframe tbody tr th {\n",
       "        vertical-align: top;\n",
       "    }\n",
       "\n",
       "    .dataframe thead th {\n",
       "        text-align: right;\n",
       "    }\n",
       "</style>\n",
       "<table border=\"1\" class=\"dataframe\">\n",
       "  <thead>\n",
       "    <tr style=\"text-align: right;\">\n",
       "      <th></th>\n",
       "      <th>gdp_for_year</th>\n",
       "      <th>gdp_per_capita ($)</th>\n",
       "      <th>suicides_no</th>\n",
       "      <th>population</th>\n",
       "      <th>suicides/100k pop</th>\n",
       "      <th>s/p</th>\n",
       "    </tr>\n",
       "    <tr>\n",
       "      <th>country</th>\n",
       "      <th></th>\n",
       "      <th></th>\n",
       "      <th></th>\n",
       "      <th></th>\n",
       "      <th></th>\n",
       "      <th></th>\n",
       "    </tr>\n",
       "  </thead>\n",
       "  <tbody>\n",
       "    <tr>\n",
       "      <th>Lithuania</th>\n",
       "      <td>2.711290e+10</td>\n",
       "      <td>9024.142857</td>\n",
       "      <td>108.003968</td>\n",
       "      <td>2.604758e+05</td>\n",
       "      <td>40.583968</td>\n",
       "      <td>0.000415</td>\n",
       "    </tr>\n",
       "    <tr>\n",
       "      <th>Russian Federation</th>\n",
       "      <td>8.843229e+11</td>\n",
       "      <td>6518.814815</td>\n",
       "      <td>3733.771605</td>\n",
       "      <td>1.139137e+07</td>\n",
       "      <td>34.892377</td>\n",
       "      <td>0.000328</td>\n",
       "    </tr>\n",
       "    <tr>\n",
       "      <th>Sri Lanka</th>\n",
       "      <td>1.532645e+10</td>\n",
       "      <td>904.272727</td>\n",
       "      <td>421.522727</td>\n",
       "      <td>1.382770e+06</td>\n",
       "      <td>35.295152</td>\n",
       "      <td>0.000305</td>\n",
       "    </tr>\n",
       "    <tr>\n",
       "      <th>Belarus</th>\n",
       "      <td>3.067641e+10</td>\n",
       "      <td>3333.904762</td>\n",
       "      <td>237.666667</td>\n",
       "      <td>7.832234e+05</td>\n",
       "      <td>31.075913</td>\n",
       "      <td>0.000303</td>\n",
       "    </tr>\n",
       "    <tr>\n",
       "      <th>Hungary</th>\n",
       "      <td>8.831404e+10</td>\n",
       "      <td>9234.120000</td>\n",
       "      <td>240.433333</td>\n",
       "      <td>8.008463e+05</td>\n",
       "      <td>33.049100</td>\n",
       "      <td>0.000300</td>\n",
       "    </tr>\n",
       "    <tr>\n",
       "      <th>Latvia</th>\n",
       "      <td>1.831660e+10</td>\n",
       "      <td>8961.095238</td>\n",
       "      <td>50.674603</td>\n",
       "      <td>1.779867e+05</td>\n",
       "      <td>29.259325</td>\n",
       "      <td>0.000285</td>\n",
       "    </tr>\n",
       "    <tr>\n",
       "      <th>Kazakhstan</th>\n",
       "      <td>7.868722e+10</td>\n",
       "      <td>5329.115385</td>\n",
       "      <td>325.467949</td>\n",
       "      <td>1.209980e+06</td>\n",
       "      <td>30.511282</td>\n",
       "      <td>0.000269</td>\n",
       "    </tr>\n",
       "    <tr>\n",
       "      <th>Slovenia</th>\n",
       "      <td>3.590006e+10</td>\n",
       "      <td>18642.238095</td>\n",
       "      <td>42.123016</td>\n",
       "      <td>1.597961e+05</td>\n",
       "      <td>27.827857</td>\n",
       "      <td>0.000264</td>\n",
       "    </tr>\n",
       "    <tr>\n",
       "      <th>Estonia</th>\n",
       "      <td>1.444586e+10</td>\n",
       "      <td>11376.095238</td>\n",
       "      <td>27.912698</td>\n",
       "      <td>1.075032e+05</td>\n",
       "      <td>27.276905</td>\n",
       "      <td>0.000260</td>\n",
       "    </tr>\n",
       "    <tr>\n",
       "      <th>Ukraine</th>\n",
       "      <td>8.389111e+10</td>\n",
       "      <td>1867.535714</td>\n",
       "      <td>952.232143</td>\n",
       "      <td>3.828777e+06</td>\n",
       "      <td>26.582321</td>\n",
       "      <td>0.000249</td>\n",
       "    </tr>\n",
       "  </tbody>\n",
       "</table>\n",
       "</div>"
      ],
      "text/plain": [
       "                    gdp_for_year  gdp_per_capita ($)  suicides_no  \\\n",
       "country                                                             \n",
       "Lithuania           2.711290e+10         9024.142857   108.003968   \n",
       "Russian Federation  8.843229e+11         6518.814815  3733.771605   \n",
       "Sri Lanka           1.532645e+10          904.272727   421.522727   \n",
       "Belarus             3.067641e+10         3333.904762   237.666667   \n",
       "Hungary             8.831404e+10         9234.120000   240.433333   \n",
       "Latvia              1.831660e+10         8961.095238    50.674603   \n",
       "Kazakhstan          7.868722e+10         5329.115385   325.467949   \n",
       "Slovenia            3.590006e+10        18642.238095    42.123016   \n",
       "Estonia             1.444586e+10        11376.095238    27.912698   \n",
       "Ukraine             8.389111e+10         1867.535714   952.232143   \n",
       "\n",
       "                      population  suicides/100k pop       s/p  \n",
       "country                                                        \n",
       "Lithuania           2.604758e+05          40.583968  0.000415  \n",
       "Russian Federation  1.139137e+07          34.892377  0.000328  \n",
       "Sri Lanka           1.382770e+06          35.295152  0.000305  \n",
       "Belarus             7.832234e+05          31.075913  0.000303  \n",
       "Hungary             8.008463e+05          33.049100  0.000300  \n",
       "Latvia              1.779867e+05          29.259325  0.000285  \n",
       "Kazakhstan          1.209980e+06          30.511282  0.000269  \n",
       "Slovenia            1.597961e+05          27.827857  0.000264  \n",
       "Estonia             1.075032e+05          27.276905  0.000260  \n",
       "Ukraine             3.828777e+06          26.582321  0.000249  "
      ]
     },
     "execution_count": 36,
     "metadata": {},
     "output_type": "execute_result"
    }
   ],
   "source": [
    "df1 = df.groupby('country').agg({'gdp_for_year': 'mean', 'gdp_per_capita ($)': 'mean', 'suicides_no' : 'mean', 'population' : 'mean', 'suicides/100k pop' : 'mean'})\n",
    "df1['s/p'] = df1['suicides_no']/df1['population']\n",
    "df1 = df1.sort_values(by = ['s/p'], ascending = False)\n",
    "df1.head(10)"
   ]
  },
  {
   "cell_type": "code",
   "execution_count": 37,
   "metadata": {},
   "outputs": [],
   "source": [
    "df1['gdpy_rating'] = pd.qcut(df1['gdp_for_year'], q = 5, labels = label, precision = 0)"
   ]
  },
  {
   "cell_type": "code",
   "execution_count": 38,
   "metadata": {},
   "outputs": [],
   "source": [
    "df1['gdpc_rating'] = pd.qcut(df1['gdp_per_capita ($)'], q = 5, labels = label, precision = 0)"
   ]
  },
  {
   "cell_type": "code",
   "execution_count": 39,
   "metadata": {},
   "outputs": [
    {
     "data": {
      "text/html": [
       "<div>\n",
       "<style scoped>\n",
       "    .dataframe tbody tr th:only-of-type {\n",
       "        vertical-align: middle;\n",
       "    }\n",
       "\n",
       "    .dataframe tbody tr th {\n",
       "        vertical-align: top;\n",
       "    }\n",
       "\n",
       "    .dataframe thead th {\n",
       "        text-align: right;\n",
       "    }\n",
       "</style>\n",
       "<table border=\"1\" class=\"dataframe\">\n",
       "  <thead>\n",
       "    <tr style=\"text-align: right;\">\n",
       "      <th></th>\n",
       "      <th>gdp_for_year</th>\n",
       "      <th>gdp_per_capita ($)</th>\n",
       "      <th>suicides_no</th>\n",
       "      <th>population</th>\n",
       "      <th>suicides/100k pop</th>\n",
       "      <th>s/p</th>\n",
       "    </tr>\n",
       "  </thead>\n",
       "  <tbody>\n",
       "    <tr>\n",
       "      <th>count</th>\n",
       "      <td>1.000000e+02</td>\n",
       "      <td>100.000000</td>\n",
       "      <td>100.000000</td>\n",
       "      <td>1.000000e+02</td>\n",
       "      <td>100.000000</td>\n",
       "      <td>100.000000</td>\n",
       "    </tr>\n",
       "    <tr>\n",
       "      <th>mean</th>\n",
       "      <td>3.571953e+11</td>\n",
       "      <td>16019.648079</td>\n",
       "      <td>201.053164</td>\n",
       "      <td>1.573559e+06</td>\n",
       "      <td>11.969025</td>\n",
       "      <td>0.000109</td>\n",
       "    </tr>\n",
       "    <tr>\n",
       "      <th>std</th>\n",
       "      <td>1.187764e+12</td>\n",
       "      <td>16401.643270</td>\n",
       "      <td>526.965795</td>\n",
       "      <td>3.149497e+06</td>\n",
       "      <td>9.373299</td>\n",
       "      <td>0.000087</td>\n",
       "    </tr>\n",
       "    <tr>\n",
       "      <th>min</th>\n",
       "      <td>5.928353e+07</td>\n",
       "      <td>720.730769</td>\n",
       "      <td>0.000000</td>\n",
       "      <td>2.189583e+03</td>\n",
       "      <td>0.000000</td>\n",
       "      <td>0.000000</td>\n",
       "    </tr>\n",
       "    <tr>\n",
       "      <th>25%</th>\n",
       "      <td>7.513043e+09</td>\n",
       "      <td>4094.616071</td>\n",
       "      <td>3.825000</td>\n",
       "      <td>8.198281e+04</td>\n",
       "      <td>4.519991</td>\n",
       "      <td>0.000040</td>\n",
       "    </tr>\n",
       "    <tr>\n",
       "      <th>50%</th>\n",
       "      <td>3.351264e+10</td>\n",
       "      <td>8895.066138</td>\n",
       "      <td>37.014484</td>\n",
       "      <td>3.769227e+05</td>\n",
       "      <td>10.327782</td>\n",
       "      <td>0.000081</td>\n",
       "    </tr>\n",
       "    <tr>\n",
       "      <th>75%</th>\n",
       "      <td>2.148282e+11</td>\n",
       "      <td>26027.938640</td>\n",
       "      <td>137.520601</td>\n",
       "      <td>1.217379e+06</td>\n",
       "      <td>17.424643</td>\n",
       "      <td>0.000156</td>\n",
       "    </tr>\n",
       "    <tr>\n",
       "      <th>max</th>\n",
       "      <td>1.051071e+13</td>\n",
       "      <td>68798.387097</td>\n",
       "      <td>3733.771605</td>\n",
       "      <td>2.165061e+07</td>\n",
       "      <td>40.583968</td>\n",
       "      <td>0.000415</td>\n",
       "    </tr>\n",
       "  </tbody>\n",
       "</table>\n",
       "</div>"
      ],
      "text/plain": [
       "       gdp_for_year  gdp_per_capita ($)  suicides_no    population  \\\n",
       "count  1.000000e+02          100.000000   100.000000  1.000000e+02   \n",
       "mean   3.571953e+11        16019.648079   201.053164  1.573559e+06   \n",
       "std    1.187764e+12        16401.643270   526.965795  3.149497e+06   \n",
       "min    5.928353e+07          720.730769     0.000000  2.189583e+03   \n",
       "25%    7.513043e+09         4094.616071     3.825000  8.198281e+04   \n",
       "50%    3.351264e+10         8895.066138    37.014484  3.769227e+05   \n",
       "75%    2.148282e+11        26027.938640   137.520601  1.217379e+06   \n",
       "max    1.051071e+13        68798.387097  3733.771605  2.165061e+07   \n",
       "\n",
       "       suicides/100k pop         s/p  \n",
       "count         100.000000  100.000000  \n",
       "mean           11.969025    0.000109  \n",
       "std             9.373299    0.000087  \n",
       "min             0.000000    0.000000  \n",
       "25%             4.519991    0.000040  \n",
       "50%            10.327782    0.000081  \n",
       "75%            17.424643    0.000156  \n",
       "max            40.583968    0.000415  "
      ]
     },
     "execution_count": 39,
     "metadata": {},
     "output_type": "execute_result"
    }
   ],
   "source": [
    "df1.describe()"
   ]
  },
  {
   "cell_type": "code",
   "execution_count": 40,
   "metadata": {},
   "outputs": [],
   "source": [
    "labelr = ['Низкий','Ниже среднего','Средний','Высокий', 'Очень высокий']\n",
    "df1['suicides_rating'] = pd.qcut(df1['s/p'], q = 5, labels = labelr, precision = 0)"
   ]
  },
  {
   "cell_type": "code",
   "execution_count": 41,
   "metadata": {},
   "outputs": [
    {
     "data": {
      "text/html": [
       "<div>\n",
       "<style scoped>\n",
       "    .dataframe tbody tr th:only-of-type {\n",
       "        vertical-align: middle;\n",
       "    }\n",
       "\n",
       "    .dataframe tbody tr th {\n",
       "        vertical-align: top;\n",
       "    }\n",
       "\n",
       "    .dataframe thead th {\n",
       "        text-align: right;\n",
       "    }\n",
       "</style>\n",
       "<table border=\"1\" class=\"dataframe\">\n",
       "  <thead>\n",
       "    <tr style=\"text-align: right;\">\n",
       "      <th></th>\n",
       "      <th>gdp_for_year</th>\n",
       "      <th>gdp_per_capita ($)</th>\n",
       "      <th>suicides_no</th>\n",
       "      <th>population</th>\n",
       "      <th>suicides/100k pop</th>\n",
       "      <th>s/p</th>\n",
       "      <th>gdpy_rating</th>\n",
       "      <th>gdpc_rating</th>\n",
       "      <th>suicides_rating</th>\n",
       "    </tr>\n",
       "    <tr>\n",
       "      <th>country</th>\n",
       "      <th></th>\n",
       "      <th></th>\n",
       "      <th></th>\n",
       "      <th></th>\n",
       "      <th></th>\n",
       "      <th></th>\n",
       "      <th></th>\n",
       "      <th></th>\n",
       "      <th></th>\n",
       "    </tr>\n",
       "  </thead>\n",
       "  <tbody>\n",
       "    <tr>\n",
       "      <th>Lithuania</th>\n",
       "      <td>2.711290e+10</td>\n",
       "      <td>9024.142857</td>\n",
       "      <td>108.003968</td>\n",
       "      <td>2.604758e+05</td>\n",
       "      <td>40.583968</td>\n",
       "      <td>0.000415</td>\n",
       "      <td>3</td>\n",
       "      <td>3</td>\n",
       "      <td>Очень высокий</td>\n",
       "    </tr>\n",
       "    <tr>\n",
       "      <th>Russian Federation</th>\n",
       "      <td>8.843229e+11</td>\n",
       "      <td>6518.814815</td>\n",
       "      <td>3733.771605</td>\n",
       "      <td>1.139137e+07</td>\n",
       "      <td>34.892377</td>\n",
       "      <td>0.000328</td>\n",
       "      <td>5</td>\n",
       "      <td>3</td>\n",
       "      <td>Очень высокий</td>\n",
       "    </tr>\n",
       "    <tr>\n",
       "      <th>Sri Lanka</th>\n",
       "      <td>1.532645e+10</td>\n",
       "      <td>904.272727</td>\n",
       "      <td>421.522727</td>\n",
       "      <td>1.382770e+06</td>\n",
       "      <td>35.295152</td>\n",
       "      <td>0.000305</td>\n",
       "      <td>2</td>\n",
       "      <td>1</td>\n",
       "      <td>Очень высокий</td>\n",
       "    </tr>\n",
       "    <tr>\n",
       "      <th>Belarus</th>\n",
       "      <td>3.067641e+10</td>\n",
       "      <td>3333.904762</td>\n",
       "      <td>237.666667</td>\n",
       "      <td>7.832234e+05</td>\n",
       "      <td>31.075913</td>\n",
       "      <td>0.000303</td>\n",
       "      <td>3</td>\n",
       "      <td>1</td>\n",
       "      <td>Очень высокий</td>\n",
       "    </tr>\n",
       "    <tr>\n",
       "      <th>Hungary</th>\n",
       "      <td>8.831404e+10</td>\n",
       "      <td>9234.120000</td>\n",
       "      <td>240.433333</td>\n",
       "      <td>8.008463e+05</td>\n",
       "      <td>33.049100</td>\n",
       "      <td>0.000300</td>\n",
       "      <td>4</td>\n",
       "      <td>3</td>\n",
       "      <td>Очень высокий</td>\n",
       "    </tr>\n",
       "  </tbody>\n",
       "</table>\n",
       "</div>"
      ],
      "text/plain": [
       "                    gdp_for_year  gdp_per_capita ($)  suicides_no  \\\n",
       "country                                                             \n",
       "Lithuania           2.711290e+10         9024.142857   108.003968   \n",
       "Russian Federation  8.843229e+11         6518.814815  3733.771605   \n",
       "Sri Lanka           1.532645e+10          904.272727   421.522727   \n",
       "Belarus             3.067641e+10         3333.904762   237.666667   \n",
       "Hungary             8.831404e+10         9234.120000   240.433333   \n",
       "\n",
       "                      population  suicides/100k pop       s/p gdpy_rating  \\\n",
       "country                                                                     \n",
       "Lithuania           2.604758e+05          40.583968  0.000415           3   \n",
       "Russian Federation  1.139137e+07          34.892377  0.000328           5   \n",
       "Sri Lanka           1.382770e+06          35.295152  0.000305           2   \n",
       "Belarus             7.832234e+05          31.075913  0.000303           3   \n",
       "Hungary             8.008463e+05          33.049100  0.000300           4   \n",
       "\n",
       "                   gdpc_rating suicides_rating  \n",
       "country                                         \n",
       "Lithuania                    3   Очень высокий  \n",
       "Russian Federation           3   Очень высокий  \n",
       "Sri Lanka                    1   Очень высокий  \n",
       "Belarus                      1   Очень высокий  \n",
       "Hungary                      3   Очень высокий  "
      ]
     },
     "execution_count": 41,
     "metadata": {},
     "output_type": "execute_result"
    }
   ],
   "source": [
    "df1.head()"
   ]
  },
  {
   "cell_type": "code",
   "execution_count": 47,
   "metadata": {},
   "outputs": [
    {
     "data": {
      "text/plain": [
       "Text(0.5, 0, 'ВВП на душу населения')"
      ]
     },
     "execution_count": 47,
     "metadata": {},
     "output_type": "execute_result"
    },
    {
     "data": {
      "image/png": "[encoded data removed]",
      "text/plain": [
       "<Figure size 1440x576 with 1 Axes>"
      ]
     },
     "metadata": {
      "needs_background": "light"
     },
     "output_type": "display_data"
    }
   ],
   "source": [
    "fig = plt.figure(figsize=(20,8))\n",
    "ax = sns.regplot(x='gdp_per_capita ($)', y ='suicides/100k pop', data=df1, color='red')\n",
    "plt.title('Корреляция ВВП и среднего кол-ва смертей',fontsize=15)\n",
    "plt.xlabel('ВВП на душу населения')"
   ]
  },
  {
   "cell_type": "code",
   "execution_count": 48,
   "metadata": {},
   "outputs": [],
   "source": [
    "df.to_csv('master.csv')"
   ]
  },
  {
   "cell_type": "code",
   "execution_count": 56,
   "metadata": {},
   "outputs": [
    {
     "data": {
      "text/plain": [
       "Text(0.5, 0, 'ВВП на душу населения')"
      ]
     },
     "execution_count": 56,
     "metadata": {},
     "output_type": "execute_result"
    },
    {
     "data": {
      "image/png": "[encoded data removed]",
      "text/plain": [
       "<Figure size 1080x576 with 1 Axes>"
      ]
     },
     "metadata": {
      "needs_background": "light"
     },
     "output_type": "display_data"
    }
   ],
   "source": [
    "fig = plt.figure(figsize=(15,8))\n",
    "df3 = df[df['country'] == 'Russian Federation']\n",
    "ax = sns.regplot(x='gdp_per_capita ($)', y ='suicides/100k pop', data=df3, color='red')\n",
    "plt.title('Корреляция ВВП и среднего кол-ва смертей в России',fontsize=15)\n",
    "plt.xlabel('ВВП на душу населения')"
   ]
  },
  {
   "cell_type": "code",
   "execution_count": 57,
   "metadata": {},
   "outputs": [
    {
     "data": {
      "text/plain": [
       "Text(0.5, 0, 'ВВП на душу населения')"
      ]
     },
     "execution_count": 57,
     "metadata": {},
     "output_type": "execute_result"
    },
    {
     "data": {
      "image/png": "[encoded data removed]",
      "text/plain": [
       "<Figure size 1080x576 with 1 Axes>"
      ]
     },
     "metadata": {
      "needs_background": "light"
     },
     "output_type": "display_data"
    }
   ],
   "source": [
    "fig = plt.figure(figsize=(15,8))\n",
    "df3 = df[df['country'] == 'Lithuania']\n",
    "ax = sns.regplot(x='gdp_per_capita ($)', y ='suicides/100k pop', data=df3, color='pink')\n",
    "plt.title('Корреляция ВВП и среднего кол-ва смертей в Литвы',fontsize=15)\n",
    "plt.xlabel('ВВП на душу населения')"
   ]
  },
  {
   "cell_type": "code",
   "execution_count": 58,
   "metadata": {},
   "outputs": [
    {
     "data": {
      "text/plain": [
       "Text(0.5, 0, 'ВВП на душу населения')"
      ]
     },
     "execution_count": 58,
     "metadata": {},
     "output_type": "execute_result"
    },
    {
     "data": {
      "image/png": "[encoded data removed]",
      "text/plain": [
       "<Figure size 1080x576 with 1 Axes>"
      ]
     },
     "metadata": {
      "needs_background": "light"
     },
     "output_type": "display_data"
    }
   ],
   "source": [
    "fig = plt.figure(figsize=(15,8))\n",
    "df3 = df[df['country'] == 'Sri Lanka']\n",
    "ax = sns.regplot(x='gdp_per_capita ($)', y ='suicides/100k pop', data=df3, color='orange')\n",
    "plt.title('Корреляция ВВП и среднего кол-ва смертей в Шри-Ланке',fontsize=15)\n",
    "plt.xlabel('ВВП на душу населения')"
   ]
  },
  {
   "cell_type": "code",
   "execution_count": 59,
   "metadata": {},
   "outputs": [
    {
     "data": {
      "text/plain": [
       "Text(0.5, 0, 'ВВП на душу населения')"
      ]
     },
     "execution_count": 59,
     "metadata": {},
     "output_type": "execute_result"
    },
    {
     "data": {
      "image/png": "[encoded data removed]",
      "text/plain": [
       "<Figure size 1080x576 with 1 Axes>"
      ]
     },
     "metadata": {
      "needs_background": "light"
     },
     "output_type": "display_data"
    }
   ],
   "source": [
    "fig = plt.figure(figsize=(15,8))\n",
    "df3 = df[df['country'] == 'Hungary']\n",
    "ax = sns.regplot(x='gdp_per_capita ($)', y ='suicides/100k pop', data=df3, color='blue')\n",
    "plt.title('Корреляция ВВП и среднего кол-ва смертей в Венгрии',fontsize=15)\n",
    "plt.xlabel('ВВП на душу населения')"
   ]
  },
  {
   "cell_type": "code",
   "execution_count": 60,
   "metadata": {},
   "outputs": [
    {
     "data": {
      "text/plain": [
       "Text(0.5, 0, 'ВВП на душу населения')"
      ]
     },
     "execution_count": 60,
     "metadata": {},
     "output_type": "execute_result"
    },
    {
     "data": {
      "image/png": "[encoded data removed]",
      "text/plain": [
       "<Figure size 1080x576 with 1 Axes>"
      ]
     },
     "metadata": {
      "needs_background": "light"
     },
     "output_type": "display_data"
    }
   ],
   "source": [
    "fig = plt.figure(figsize=(15,8))\n",
    "df3 = df[df['country'] == 'Belarus']\n",
    "ax = sns.regplot(x='gdp_per_capita ($)', y ='suicides/100k pop', data=df3, color='green')\n",
    "plt.title('Корреляция ВВП и среднего кол-ва смертей в Беларуссии',fontsize=15)\n",
    "plt.xlabel('ВВП на душу населения')"
   ]
  },
  {
   "cell_type": "code",
   "execution_count": null,
   "metadata": {},
   "outputs": [],
   "source": []
  }
 ],
 "metadata": {
  "kernelspec": {
   "display_name": "Python 3",
   "language": "python",
   "name": "python3"
  },
  "language_info": {
   "codemirror_mode": {
    "name": "ipython",
    "version": 3
   },
   "file_extension": ".py",
   "mimetype": "text/x-python",
   "name": "python",
   "nbconvert_exporter": "python",
   "pygments_lexer": "ipython3",
   "version": "3.7.3"
  }
 },
 "nbformat": 4,
 "nbformat_minor": 2
}
